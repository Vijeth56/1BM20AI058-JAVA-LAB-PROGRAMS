{
 "cells": [
  {
   "cell_type": "code",
   "execution_count": 1,
   "metadata": {
    "colab": {
     "base_uri": "https://localhost:8080/"
    },
    "id": "DAnSw65iUFU8",
    "outputId": "ff3cc70e-7221-4417-a5e9-5555ae9802d7"
   },
   "outputs": [
    {
     "name": "stdout",
     "output_type": "stream",
     "text": [
      "Email addresses scraped and saved successfully.\n"
     ]
    }
   ],
   "source": [
    "import requests\n",
    "import csv\n",
    "from bs4 import BeautifulSoup\n",
    "import re\n",
    "\n",
    "def crawl_webpage(url):\n",
    "    # Send a GET request to the webpage\n",
    "    response = requests.get(url)\n",
    "    \n",
    "    # Check if the request was successful\n",
    "    if response.status_code == 200:\n",
    "        # Extract email addresses from the webpage\n",
    "        email_addresses = extract_email_addresses(response.text)\n",
    "        \n",
    "        # Store the email addresses in a CSV file\n",
    "        save_to_csv(email_addresses)\n",
    "        \n",
    "        print(\"Email addresses scraped and saved successfully.\")\n",
    "    else:\n",
    "        print(\"Failed to crawl the webpage.\")\n",
    "\n",
    "def extract_email_addresses(html_content):\n",
    "    # Use BeautifulSoup to parse the HTML content\n",
    "    soup = BeautifulSoup(html_content, 'html.parser')\n",
    "    \n",
    "    # Find all email addresses using regular expressions\n",
    "    email_regex = r'\\b[A-Za-z0-9._%+-]+@[A-Za-z0-9.-]+\\.[A-Z|a-z]{2,}\\b'\n",
    "    email_addresses = re.findall(email_regex, soup.get_text())\n",
    "    \n",
    "    return email_addresses\n",
    "\n",
    "def save_to_csv(email_addresses):\n",
    "    # Specify the CSV file path\n",
    "    csv_file = 'email_addresses.csv'\n",
    "    \n",
    "    # Open the CSV file in write mode\n",
    "    with open(csv_file, mode='w', newline='') as file:\n",
    "        writer = csv.writer(file)\n",
    "        \n",
    "        # Write the email addresses to the CSV file\n",
    "        for email in email_addresses:\n",
    "            writer.writerow([email])\n",
    "\n",
    "# Example usage\n",
    "url = 'https://www.geeksforgeeks.org/minimum-time-required-so-that-all-oranges-become-rotten/'  # Replace with the actual URL\n",
    "crawl_webpage(url)\n"
   ]
  },
  {
   "cell_type": "code",
   "execution_count": null,
   "metadata": {},
   "outputs": [],
   "source": []
  }
 ],
 "metadata": {
  "colab": {
   "provenance": [],
   "toc_visible": true
  },
  "kernelspec": {
   "display_name": "Python 3 (ipykernel)",
   "language": "python",
   "name": "python3"
  },
  "language_info": {
   "codemirror_mode": {
    "name": "ipython",
    "version": 3
   },
   "file_extension": ".py",
   "mimetype": "text/x-python",
   "name": "python",
   "nbconvert_exporter": "python",
   "pygments_lexer": "ipython3",
   "version": "3.10.9"
  }
 },
 "nbformat": 4,
 "nbformat_minor": 1
}
