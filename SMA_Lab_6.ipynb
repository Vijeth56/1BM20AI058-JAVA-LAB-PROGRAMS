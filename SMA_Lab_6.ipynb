{
 "cells": [
  {
   "cell_type": "code",
   "execution_count": 1,
   "metadata": {
    "id": "Ef870NmJTSXD"
   },
   "outputs": [],
   "source": [
    "import networkx as nx\n",
    "\n",
    "def load_bipartite_graph():\n",
    "    G = nx.read_edgelist(\"Employee_Movie_Choices.txt\", delimiter=\"\\t\")\n",
    "    return G\n"
   ]
  },
  {
   "cell_type": "code",
   "execution_count": 2,
   "metadata": {
    "id": "5C92DPLcUYa-"
   },
   "outputs": [],
   "source": [
    "def add_node_attributes():\n",
    "    G = load_bipartite_graph()\n",
    "    \n",
    "    for node in G.nodes:\n",
    "        if node.startswith('E'):\n",
    "            G.nodes[node]['type'] = 'employee'\n",
    "        else:\n",
    "            G.nodes[node]['type'] = 'movie'\n",
    "            \n",
    "    return G\n"
   ]
  },
  {
   "cell_type": "code",
   "execution_count": 3,
   "metadata": {
    "id": "th7xb7fUUagc"
   },
   "outputs": [],
   "source": [
    "def create_weighted_projection():\n",
    "    G = add_node_attributes()\n",
    "    employees = [node for node, attr in G.nodes(data=True) if attr['type'] == 'employee']\n",
    "    \n",
    "    weighted_projection = nx.bipartite.weighted_projected_graph(G, employees)\n",
    "    return weighted_projection\n"
   ]
  },
  {
   "cell_type": "code",
   "execution_count": 4,
   "metadata": {
    "id": "RYW-GShWUbJd"
   },
   "outputs": [],
   "source": [
    "import pandas as pd\n",
    "import numpy as np\n",
    "import networkx as nx\n",
    "\n",
    "def calculate_correlation():\n",
    "    weighted_projection = create_weighted_projection()\n",
    "    \n",
    "    # Load relationship scores from Employee_Relationships.txt\n",
    "    relationship_scores = pd.read_csv(\"Employee_Relationships.txt\", delimiter=\"\\t\", header=None, names=['Employee1', 'Employee2', 'Relationship'])\n",
    "    \n",
    "    # Initialize a list to store the common movie counts\n",
    "    common_movie_counts = []\n",
    "    \n",
    "    # Iterate through each row in the relationship_scores dataframe\n",
    "    for index, row in relationship_scores.iterrows():\n",
    "        employee1 = row['Employee1']\n",
    "        employee2 = row['Employee2']\n",
    "        \n",
    "        # Check if there is an edge between the two employees in the weighted projection graph\n",
    "        if weighted_projection.has_edge(employee1, employee2):\n",
    "            # Get the weight (number of common movies) of the edge\n",
    "            common_movies = weighted_projection[employee1][employee2]['weight']\n",
    "        else:\n",
    "            common_movies = 0\n",
    "        \n",
    "        # Append the common movie count to the list\n",
    "        common_movie_counts.append(common_movies)\n",
    "    \n",
    "    # Add the common_movie_counts as a new column in the relationship_scores dataframe\n",
    "    relationship_scores['CommonMovies'] = common_movie_counts\n",
    "    \n",
    "    # Convert the 'Relationship' column to numeric type\n",
    "    relationship_scores['Relationship'] = pd.to_numeric(relationship_scores['Relationship'], errors='coerce')\n",
    "    \n",
    "    # Calculate the Pearson correlation between Relationship and CommonMovies columns\n",
    "    correlation = relationship_scores['Relationship'].corr(relationship_scores['CommonMovies'])\n",
    "    \n",
    "    return correlation\n"
   ]
  },
  {
   "cell_type": "code",
   "execution_count": 5,
   "metadata": {
    "colab": {
     "base_uri": "https://localhost:8080/"
    },
    "id": "TdINGLI1Ui7o",
    "outputId": "df3ae66b-2c5b-4d58-8aae-d36ba816c995"
   },
   "outputs": [
    {
     "name": "stdout",
     "output_type": "stream",
     "text": [
      "Graph with 15 nodes and 23 edges\n",
      "Graph with 15 nodes and 23 edges\n",
      "Graph with 9 nodes and 27 edges\n",
      "-0.12549142452696246\n"
     ]
    }
   ],
   "source": [
    "graph = load_bipartite_graph()\n",
    "print(graph)\n",
    "\n",
    "graph_with_attributes = add_node_attributes()\n",
    "print(graph_with_attributes)\n",
    "\n",
    "weighted_projection = create_weighted_projection()\n",
    "print(weighted_projection)\n",
    "\n",
    "correlation = calculate_correlation()\n",
    "print(correlation)\n"
   ]
  },
  {
   "cell_type": "code",
   "execution_count": null,
   "metadata": {},
   "outputs": [],
   "source": []
  }
 ],
 "metadata": {
  "colab": {
   "provenance": []
  },
  "kernelspec": {
   "display_name": "Python 3 (ipykernel)",
   "language": "python",
   "name": "python3"
  },
  "language_info": {
   "codemirror_mode": {
    "name": "ipython",
    "version": 3
   },
   "file_extension": ".py",
   "mimetype": "text/x-python",
   "name": "python",
   "nbconvert_exporter": "python",
   "pygments_lexer": "ipython3",
   "version": "3.10.9"
  }
 },
 "nbformat": 4,
 "nbformat_minor": 1
}
